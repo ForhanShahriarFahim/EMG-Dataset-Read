{
 "cells": [
  {
   "cell_type": "code",
   "execution_count": 1,
   "id": "f7e916de",
   "metadata": {},
   "outputs": [],
   "source": [
    "import numpy as np\n",
    "import matplotlib.pyplot as plt \n",
    "import scipy.io as scipyio\n",
    "import seaborn as sns "
   ]
  },
  {
   "cell_type": "code",
   "execution_count": 2,
   "id": "adfffff4",
   "metadata": {},
   "outputs": [],
   "source": [
    "matdata = scipyio.loadmat(\"A1_Force Exp/Ball_high/A1_Ball_high_t1.mat\")"
   ]
  },
  {
   "cell_type": "code",
   "execution_count": 3,
   "id": "ae0500b2",
   "metadata": {},
   "outputs": [
    {
     "data": {
      "text/plain": [
       "dict_keys(['__header__', '__version__', '__globals__', 't1'])"
      ]
     },
     "execution_count": 3,
     "metadata": {},
     "output_type": "execute_result"
    }
   ],
   "source": [
    "matdata.keys()"
   ]
  },
  {
   "cell_type": "code",
   "execution_count": 9,
   "id": "f837fba5",
   "metadata": {},
   "outputs": [],
   "source": [
    "t1 = matdata[\"t1\"]"
   ]
  },
  {
   "cell_type": "code",
   "execution_count": 10,
   "id": "fc419240",
   "metadata": {},
   "outputs": [
    {
     "data": {
      "text/plain": [
       "(21153, 10)"
      ]
     },
     "execution_count": 10,
     "metadata": {},
     "output_type": "execute_result"
    }
   ],
   "source": [
    "t1.shape"
   ]
  },
  {
   "cell_type": "code",
   "execution_count": 11,
   "id": "99134c97",
   "metadata": {},
   "outputs": [
    {
     "data": {
      "text/plain": [
       "array([[-0.01320832, -0.01207002, -0.01087339, ...,  0.11032979,\n",
       "        -0.01091489, -0.04580351],\n",
       "       [-0.04018432, -0.03016302, -0.03028239, ...,  0.05966779,\n",
       "        -0.05664189, -0.08199051],\n",
       "       [-0.05827732, -0.04036102, -0.04311239, ...,  0.03499579,\n",
       "        -0.07605089, -0.10732151],\n",
       "       ...,\n",
       "       [ 0.02824168,  0.01391898,  0.00425961, ..., -0.00316521,\n",
       "         0.01902211,  0.02459649],\n",
       "       [ 0.03251868,  0.01720898,  0.00689161, ...,  0.00143979,\n",
       "         0.02494311,  0.02887349],\n",
       "       [ 0.03712468,  0.01918298,  0.00985261, ...,  0.00374279,\n",
       "         0.02560111,  0.03183449]])"
      ]
     },
     "execution_count": 11,
     "metadata": {},
     "output_type": "execute_result"
    }
   ],
   "source": [
    "t1"
   ]
  },
  {
   "cell_type": "code",
   "execution_count": null,
   "id": "e82fa55b",
   "metadata": {},
   "outputs": [],
   "source": []
  }
 ],
 "metadata": {
  "kernelspec": {
   "display_name": "Python 3 (ipykernel)",
   "language": "python",
   "name": "python3"
  },
  "language_info": {
   "codemirror_mode": {
    "name": "ipython",
    "version": 3
   },
   "file_extension": ".py",
   "mimetype": "text/x-python",
   "name": "python",
   "nbconvert_exporter": "python",
   "pygments_lexer": "ipython3",
   "version": "3.9.17"
  }
 },
 "nbformat": 4,
 "nbformat_minor": 5
}
